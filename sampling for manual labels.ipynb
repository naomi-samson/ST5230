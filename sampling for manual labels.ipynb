{
 "cells": [
  {
   "cell_type": "code",
   "execution_count": 3,
   "id": "a6eaa465",
   "metadata": {},
   "outputs": [],
   "source": [
    "import pandas as pd\n",
    "import numpy as np\n",
    "\n",
    "df_full = pd.read_csv(\"sampled_radiology_data_cleaned.csv\")\n",
    "# getting the unique set of patient ids\n",
    "unique_patients = df_full.drop_duplicates(subset='subject_id')\n",
    "\n",
    "# sampling 100k patients\n",
    "sampled_subjects = unique_patients.sample(n=1000, random_state=5230)\n",
    "\n",
    "# getting other columns \n",
    "df = df_full[df_full['subject_id'].isin(sampled_subjects['subject_id'])]\n",
    "df = df.drop_duplicates(subset='subject_id')\n",
    "df.shape\n",
    "df.to_csv(\"1000 label.csv\", index=False)"
   ]
  },
  {
   "cell_type": "code",
   "execution_count": null,
   "id": "b5be47c7",
   "metadata": {},
   "outputs": [],
   "source": []
  }
 ],
 "metadata": {
  "kernelspec": {
   "display_name": "5230",
   "language": "python",
   "name": "python3"
  },
  "language_info": {
   "codemirror_mode": {
    "name": "ipython",
    "version": 3
   },
   "file_extension": ".py",
   "mimetype": "text/x-python",
   "name": "python",
   "nbconvert_exporter": "python",
   "pygments_lexer": "ipython3",
   "version": "3.9.21"
  }
 },
 "nbformat": 4,
 "nbformat_minor": 5
}
